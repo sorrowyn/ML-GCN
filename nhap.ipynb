{
 "cells": [
  {
   "cell_type": "code",
   "execution_count": 3,
   "metadata": {},
   "outputs": [
    {
     "output_type": "execute_result",
     "data": {
      "text/plain": "matrix([[0., 1., 0., 0.],\n        [0., 0., 1., 1.],\n        [0., 1., 0., 0.],\n        [1., 0., 1., 0.]])"
     },
     "metadata": {},
     "execution_count": 3
    }
   ],
   "source": [
    "import numpy as np\n",
    "A = np.matrix([\n",
    "    [0, 1, 0, 0],\n",
    "    [0, 0, 1, 1], \n",
    "    [0, 1, 0, 0],\n",
    "    [1, 0, 1, 0]],\n",
    "    dtype=float\n",
    ")\n",
    "A"
   ]
  },
  {
   "cell_type": "code",
   "execution_count": 4,
   "metadata": {},
   "outputs": [
    {
     "output_type": "execute_result",
     "data": {
      "text/plain": "matrix([[ 0.,  0.],\n        [ 1., -1.],\n        [ 2., -2.],\n        [ 3., -3.]])"
     },
     "metadata": {},
     "execution_count": 4
    }
   ],
   "source": [
    "X = np.matrix([\n",
    "    [i, -i]\n",
    "    for i in range(A.shape[0])\n",
    "], dtype=float)\n",
    "X"
   ]
  },
  {
   "cell_type": "code",
   "execution_count": 5,
   "metadata": {},
   "outputs": [
    {
     "output_type": "execute_result",
     "data": {
      "text/plain": "matrix([[ 1., -1.],\n        [ 5., -5.],\n        [ 1., -1.],\n        [ 2., -2.]])"
     },
     "metadata": {},
     "execution_count": 5
    }
   ],
   "source": [
    "A*X"
   ]
  },
  {
   "cell_type": "code",
   "execution_count": 6,
   "metadata": {},
   "outputs": [
    {
     "output_type": "execute_result",
     "data": {
      "text/plain": "matrix([[ 1., -1.],\n        [ 6., -6.],\n        [ 3., -3.],\n        [ 5., -5.]])"
     },
     "metadata": {},
     "execution_count": 6
    }
   ],
   "source": [
    "I = np.matrix(np.eye(A.shape[0]))\n",
    "(A+I)*X"
   ]
  },
  {
   "cell_type": "code",
   "execution_count": 13,
   "metadata": {},
   "outputs": [
    {
     "output_type": "execute_result",
     "data": {
      "text/plain": "matrix([[1., 0., 0., 0.],\n        [0., 2., 0., 0.],\n        [0., 0., 2., 0.],\n        [0., 0., 0., 1.]])"
     },
     "metadata": {},
     "execution_count": 13
    }
   ],
   "source": [
    "D = np.array(np.sum(A, axis=0))[0]\n",
    "D = np.matrix(np.diag(D))\n",
    "D"
   ]
  },
  {
   "cell_type": "code",
   "execution_count": 17,
   "metadata": {},
   "outputs": [
    {
     "output_type": "execute_result",
     "data": {
      "text/plain": "matrix([[0. , 1. , 0. , 0. ],\n        [0. , 0. , 0.5, 0.5],\n        [0. , 0.5, 0. , 0. ],\n        [1. , 0. , 1. , 0. ]])"
     },
     "metadata": {},
     "execution_count": 17
    }
   ],
   "source": [
    "temp = D**-1 * A\n",
    "temp"
   ]
  },
  {
   "cell_type": "code",
   "execution_count": 18,
   "metadata": {},
   "outputs": [
    {
     "output_type": "execute_result",
     "data": {
      "text/plain": "matrix([[ 1. , -1. ],\n        [ 2.5, -2.5],\n        [ 0.5, -0.5],\n        [ 2. , -2. ]])"
     },
     "metadata": {},
     "execution_count": 18
    }
   ],
   "source": [
    "temp*X"
   ]
  },
  {
   "cell_type": "code",
   "execution_count": 7,
   "metadata": {},
   "outputs": [],
   "source": [
    "import numpy as np\n",
    "from networkx import karate_club_graph, to_numpy_matrix"
   ]
  },
  {
   "cell_type": "code",
   "execution_count": 4,
   "metadata": {},
   "outputs": [],
   "source": [
    "zkc = karate_club_graph()\n",
    "order = sorted(list(zkc.nodes()))"
   ]
  },
  {
   "cell_type": "code",
   "execution_count": 5,
   "metadata": {},
   "outputs": [],
   "source": [
    "A = to_numpy_matrix(zkc, nodelist=order)"
   ]
  },
  {
   "cell_type": "code",
   "execution_count": 8,
   "metadata": {},
   "outputs": [],
   "source": [
    "I = np.eye(zkc.number_of_nodes())"
   ]
  },
  {
   "cell_type": "code",
   "execution_count": 9,
   "metadata": {},
   "outputs": [],
   "source": [
    "A_hat = A + I"
   ]
  },
  {
   "cell_type": "code",
   "execution_count": 10,
   "metadata": {},
   "outputs": [],
   "source": [
    "D_hat = np.array(np.sum(A_hat, axis=0))[0]"
   ]
  },
  {
   "cell_type": "code",
   "execution_count": 11,
   "metadata": {},
   "outputs": [],
   "source": [
    "D_hat = np.matrix(np.diag(D_hat))"
   ]
  },
  {
   "cell_type": "code",
   "execution_count": 12,
   "metadata": {},
   "outputs": [],
   "source": [
    "W_1 = np.random.normal(loc=0, scale=1, size=(zkc.number_of_nodes(), 4))\n",
    "W_2 = np.random.normal(loc=0, size=(W_1.shape[1], 2))"
   ]
  },
  {
   "cell_type": "code",
   "execution_count": 19,
   "metadata": {},
   "outputs": [],
   "source": [
    "def relu(x):\n",
    "    x[x<0]=0\n",
    "    return x"
   ]
  },
  {
   "cell_type": "code",
   "execution_count": 20,
   "metadata": {},
   "outputs": [],
   "source": [
    "def gcn_layer(A_hat, D_hat, X, W):\n",
    "    return relu(D_hat**-1 * A_hat * X * W)"
   ]
  },
  {
   "cell_type": "code",
   "execution_count": 21,
   "metadata": {},
   "outputs": [],
   "source": [
    "H_1 = gcn_layer(A_hat, D_hat, I, W_1)\n",
    "H_2 = gcn_layer(A_hat, D_hat, H_1, W_2)"
   ]
  },
  {
   "cell_type": "code",
   "execution_count": 29,
   "metadata": {},
   "outputs": [
    {
     "output_type": "execute_result",
     "data": {
      "text/plain": "matrix([[0.70610776, 0.03757378],\n        [1.21846254, 0.08680767],\n        [0.52050872, 0.04292017],\n        [0.56648745, 0.03310858],\n        [0.08267323, 0.        ],\n        [0.17362556, 0.        ],\n        [0.20416611, 0.        ],\n        [0.35418374, 0.0132185 ],\n        [0.72919573, 0.05844857],\n        [0.64187219, 0.11421444],\n        [0.1862992 , 0.        ],\n        [0.05989521, 0.        ],\n        [0.27057349, 0.00610344],\n        [0.66582249, 0.06531835],\n        [0.6421983 , 0.06086155],\n        [0.97614009, 0.12520662],\n        [0.23816113, 0.        ],\n        [0.43269644, 0.01433232],\n        [0.60834989, 0.10588754],\n        [0.80502456, 0.08989313],\n        [1.08006346, 0.15025226],\n        [1.28109119, 0.08141837],\n        [0.32255866, 0.02714614],\n        [0.70419555, 0.13825174],\n        [1.19539709, 0.12698184],\n        [1.25933357, 0.15664868],\n        [1.10626491, 0.25498247],\n        [1.03092621, 0.14334033],\n        [0.84840316, 0.097076  ],\n        [0.92258447, 0.20287948],\n        [0.80136998, 0.06322443],\n        [0.77025558, 0.09673091],\n        [1.16057494, 0.10924774],\n        [1.20892395, 0.13056252]])"
     },
     "metadata": {},
     "execution_count": 29
    }
   ],
   "source": [
    "output = H_2\n",
    "output"
   ]
  },
  {
   "cell_type": "code",
   "execution_count": 28,
   "metadata": {},
   "outputs": [
    {
     "output_type": "execute_result",
     "data": {
      "text/plain": "{0: array([0.70610776, 0.03757378]),\n 1: array([1.21846254, 0.08680767]),\n 2: array([0.52050872, 0.04292017]),\n 3: array([0.56648745, 0.03310858]),\n 4: array([0.08267323, 0.        ]),\n 5: array([0.17362556, 0.        ]),\n 6: array([0.20416611, 0.        ]),\n 7: array([0.35418374, 0.0132185 ]),\n 8: array([0.72919573, 0.05844857]),\n 9: array([0.64187219, 0.11421444]),\n 10: array([0.1862992, 0.       ]),\n 11: array([0.05989521, 0.        ]),\n 12: array([0.27057349, 0.00610344]),\n 13: array([0.66582249, 0.06531835]),\n 14: array([0.6421983 , 0.06086155]),\n 15: array([0.97614009, 0.12520662]),\n 16: array([0.23816113, 0.        ]),\n 17: array([0.43269644, 0.01433232]),\n 18: array([0.60834989, 0.10588754]),\n 19: array([0.80502456, 0.08989313]),\n 20: array([1.08006346, 0.15025226]),\n 21: array([1.28109119, 0.08141837]),\n 22: array([0.32255866, 0.02714614]),\n 23: array([0.70419555, 0.13825174]),\n 24: array([1.19539709, 0.12698184]),\n 25: array([1.25933357, 0.15664868]),\n 26: array([1.10626491, 0.25498247]),\n 27: array([1.03092621, 0.14334033]),\n 28: array([0.84840316, 0.097076  ]),\n 29: array([0.92258447, 0.20287948]),\n 30: array([0.80136998, 0.06322443]),\n 31: array([0.77025558, 0.09673091]),\n 32: array([1.16057494, 0.10924774]),\n 33: array([1.20892395, 0.13056252])}"
     },
     "metadata": {},
     "execution_count": 28
    }
   ],
   "source": [
    "feature_representations = {\n",
    "    node: np.array(output)[node] \n",
    "    for node in zkc.nodes()}\n",
    "feature_representations"
   ]
  },
  {
   "cell_type": "code",
   "execution_count": null,
   "metadata": {},
   "outputs": [],
   "source": []
  }
 ],
 "metadata": {
  "language_info": {
   "codemirror_mode": {
    "name": "ipython",
    "version": 3
   },
   "file_extension": ".py",
   "mimetype": "text/x-python",
   "name": "python",
   "nbconvert_exporter": "python",
   "pygments_lexer": "ipython3",
   "version": "3.7.7-final"
  },
  "orig_nbformat": 2,
  "kernelspec": {
   "name": "python3",
   "display_name": "Python 3"
  }
 },
 "nbformat": 4,
 "nbformat_minor": 2
}